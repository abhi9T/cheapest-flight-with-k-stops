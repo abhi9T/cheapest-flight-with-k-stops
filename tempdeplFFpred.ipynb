{
  "cells": [
    {
      "cell_type": "code",
      "execution_count": null,
      "metadata": {
        "colab": {
          "base_uri": "https://localhost:8080/"
        },
        "id": "7hE46FHRUUOr",
        "outputId": "b4b6461a-e109-4928-f730-8838b66d42d8"
      },
      "outputs": [
        {
          "output_type": "stream",
          "name": "stdout",
          "text": [
            "\u001b[2K     \u001b[90m━━━━━━━━━━━━━━━━━━━━━━━━━━━━━━━━━━━━━━━━\u001b[0m \u001b[32m9.7/9.7 MB\u001b[0m \u001b[31m32.5 MB/s\u001b[0m eta \u001b[36m0:00:00\u001b[0m\n",
            "\u001b[2K     \u001b[90m━━━━━━━━━━━━━━━━━━━━━━━━━━━━━━━━━━━━━━━━\u001b[0m \u001b[32m4.7/4.7 MB\u001b[0m \u001b[31m44.2 MB/s\u001b[0m eta \u001b[36m0:00:00\u001b[0m\n",
            "\u001b[2K     \u001b[90m━━━━━━━━━━━━━━━━━━━━━━━━━━━━━━━━━━━━━━━━\u001b[0m \u001b[32m82.1/82.1 kB\u001b[0m \u001b[31m4.0 MB/s\u001b[0m eta \u001b[36m0:00:00\u001b[0m\n",
            "\u001b[2K     \u001b[90m━━━━━━━━━━━━━━━━━━━━━━━━━━━━━━━━━━━━━━━\u001b[0m \u001b[32m184.3/184.3 kB\u001b[0m \u001b[31m4.4 MB/s\u001b[0m eta \u001b[36m0:00:00\u001b[0m\n",
            "\u001b[?25h  Preparing metadata (setup.py) ... \u001b[?25l\u001b[?25hdone\n",
            "\u001b[2K     \u001b[90m━━━━━━━━━━━━━━━━━━━━━━━━━━━━━━━━━━━━━━━\u001b[0m \u001b[32m164.8/164.8 kB\u001b[0m \u001b[31m5.9 MB/s\u001b[0m eta \u001b[36m0:00:00\u001b[0m\n",
            "\u001b[2K     \u001b[90m━━━━━━━━━━━━━━━━━━━━━━━━━━━━━━━━━━━━━━━━\u001b[0m \u001b[32m62.7/62.7 kB\u001b[0m \u001b[31m4.3 MB/s\u001b[0m eta \u001b[36m0:00:00\u001b[0m\n",
            "\u001b[?25h  Building wheel for validators (setup.py) ... \u001b[?25l\u001b[?25hdone\n"
          ]
        }
      ],
      "source": [
        "!pip install streamlit --quiet"
      ]
    },
    {
      "cell_type": "code",
      "execution_count": null,
      "metadata": {
        "id": "1-AvO9c3Ub-F",
        "colab": {
          "base_uri": "https://localhost:8080/"
        },
        "outputId": "da601f48-09ab-43c9-83e9-4725ba0c04e4"
      },
      "outputs": [
        {
          "output_type": "stream",
          "name": "stdout",
          "text": [
            "Writing app.py\n"
          ]
        }
      ],
      "source": [
        "%%writefile app.py\n",
        "import streamlit as st\n",
        "import pandas as pd\n",
        "import joblib\n",
        "import datetime\n",
        "import random\n",
        "import numpy as np\n",
        "\n",
        "\n",
        "model = joblib.load('FFpred')\n",
        "st.title('Flight Fare Prediction')\n",
        "\n",
        "stops = st.text_input('Total no of stops : ')\n",
        "\n",
        "date = st.date_input('Date_of_Journey')\n",
        "dept = st.time_input('Departure Time')\n",
        "arr = st.time_input('Arrival Time')\n",
        "air = st.selectbox('Which Airlines???',('Air India',\t'GoAir',\t'IndiGo','Jet Airways'\t,'Jet Airways Business'\t,'Multiple carriers',\t'Multiple carriers Premium economy',\t'SpiceJet'\t,'Trujet','Vistara',\t'Vistara Premium economy'))\n",
        "source = st.selectbox('Source???',('Chennai'\t,'Delhi'\t,'Kolkata'\t,'Mumbai'))\n",
        "dest = st.selectbox('Destination???',('Cochin'\t,'Delhi'\t,'Hyderabad','Kolkata'\t,'New Delhi'))\n",
        "duration = st.text_input('Duration : ')\n",
        "\n",
        "route = st.text_input('Route : ')\n",
        "\n",
        "d = [[air,date,source,dest,route,dept,arr,duration,stops]]\n",
        "df_feat = pd.DataFrame(d, columns=['Airline',\t'Date_of_Journey',\t'Source',\t'Destination',\t'Route',\t'Dep_Time',\t'Arrival_Time',\t'Duration',\t'Total_Stops'])\n",
        "\n",
        "df_feat['Date_of_Journey'] = pd.to_datetime(df_feat['Date_of_Journey'], format='%Y/%m/%d')\n",
        "df_feat['Weekday'] = pd.Series(df_feat['Date_of_Journey']).dt.day_name()\n",
        "\n",
        "\n",
        "df_feat['Dep_Time'] = pd.to_datetime(df_feat['Dep_Time'], format='%H:%M:%S')\n",
        "df_feat['Arrival_Time'] = pd.to_datetime(df_feat['Arrival_Time'], format='%H:%M:%S').dt.time\n",
        "\n",
        "\n",
        "df_feat['Dep_Hr'] = df_feat['Dep_Time'].dt.hour.astype('int')\n",
        "df_feat['Dep_Day'] = df_feat['Date_of_Journey'].dt.day.astype('int')\n",
        "df_feat['Dep_Month'] = df_feat['Date_of_Journey'].dt.month.astype('int')\n",
        "\n",
        "df_feat['Dep_Time'] = pd.to_datetime(df_feat['Dep_Time'], format='%H:%M:%S').dt.time #changing to only time type\n",
        "\n",
        "hour = pd.to_numeric(df_feat['Duration'].str.replace(r'\\D+', ' ', regex=True).str.split(' ').str[0])*60\n",
        "mins = pd.to_numeric(df_feat['Duration'].str.replace(r'\\D+', ' ', regex=True).str.split(' ').str[1])\n",
        "\n",
        "df_feat['Duration_min'] = np.where(mins.isnull(), hour, hour + mins )\n",
        "df_feat = pd.get_dummies(df_feat, columns = ['Airline', 'Source', 'Destination','Weekday'], drop_first=True)\n",
        "\n",
        "\n",
        "op = model.predict(df_feat)\n",
        "if st.button('Predict'):\n",
        "  st.title(op[0])"
      ]
    },
    {
      "cell_type": "code",
      "execution_count": null,
      "metadata": {
        "colab": {
          "background_save": true,
          "base_uri": "https://localhost:8080/"
        },
        "id": "CVMawzjwWF17",
        "outputId": "93f626d4-3661-4c47-bd9f-28f02caa3196"
      },
      "outputs": [
        {
          "output_type": "stream",
          "name": "stdout",
          "text": [
            "[##................] / fetchMetadata: sill resolveWithNewModule ms@2.1.2 checki\u001b[0m\u001b[K\n",
            "Collecting usage statistics. To deactivate, set browser.gatherUsageStats to False.\n",
            "\u001b[0m\n",
            "\u001b[0m\n",
            "\u001b[34m\u001b[1m  You can now view your Streamlit app in your browser.\u001b[0m\n",
            "\u001b[0m\n",
            "\u001b[34m  Network URL: \u001b[0m\u001b[1mhttp://172.28.0.12:8501\u001b[0m\n",
            "\u001b[34m  External URL: \u001b[0m\u001b[1mhttp://34.73.62.220:8501\u001b[0m\n",
            "\u001b[0m\n",
            "\u001b[K\u001b[?25hnpx: installed 22 in 5.579s\n",
            "your url is: https://yellow-ants-melt-34-73-62-220.loca.lt\n",
            "2023-04-11 08:56:44.187 Uncaught app exception\n",
            "Traceback (most recent call last):\n",
            "  File \"/usr/local/lib/python3.9/dist-packages/streamlit/runtime/scriptrunner/script_runner.py\", line 565, in _run_script\n",
            "    exec(code, module.__dict__)\n",
            "  File \"/content/app.py\", line 9, in <module>\n",
            "    model = joblib.load('FFpred')\n",
            "  File \"/usr/local/lib/python3.9/dist-packages/joblib/numpy_pickle.py\", line 579, in load\n",
            "    with open(filename, 'rb') as f:\n",
            "FileNotFoundError: [Errno 2] No such file or directory: 'FFpred'\n"
          ]
        }
      ],
      "source": [
        "!streamlit run app.py & npx localtunnel --port 8501"
      ]
    },
    {
      "cell_type": "code",
      "execution_count": null,
      "metadata": {
        "id": "Enc9qDezPuOa"
      },
      "outputs": [],
      "source": []
    }
  ],
  "metadata": {
    "colab": {
      "provenance": []
    },
    "kernelspec": {
      "display_name": "Python 3",
      "name": "python3"
    },
    "language_info": {
      "name": "python"
    }
  },
  "nbformat": 4,
  "nbformat_minor": 0
}